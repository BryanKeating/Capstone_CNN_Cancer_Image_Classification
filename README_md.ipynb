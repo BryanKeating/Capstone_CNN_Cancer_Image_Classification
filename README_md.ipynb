{
  "nbformat": 4,
  "nbformat_minor": 0,
  "metadata": {
    "colab": {
      "name": "README.md",
      "provenance": [],
      "collapsed_sections": []
    },
    "kernelspec": {
      "name": "python3",
      "display_name": "Python 3"
    },
    "language_info": {
      "name": "python"
    }
  },
  "cells": [
    {
      "cell_type": "code",
      "execution_count": null,
      "metadata": {
        "id": "6Z0gT5g3HLPl"
      },
      "outputs": [],
      "source": [
        ""
      ]
    },
    {
      "cell_type": "markdown",
      "source": [
        "# Convolutional Neural Network - Breast Histopathology Image Classification "
      ],
      "metadata": {
        "id": "4GQFLs8PHScT"
      }
    },
    {
      "cell_type": "markdown",
      "source": [
        "## Overview \n",
        "\n",
        "\n",
        "---\n",
        "\n",
        "\n",
        "This repository presents a deep learning approach (Convolutional Neural Network - CNN) for automatic detection, visual analysis, and classification of invasive ductal carcinoma (IDC) tissue regions in whole slide images (WSI) of breast cancer.\n"
      ],
      "metadata": {
        "id": "t72ypxMgH2O9"
      }
    },
    {
      "cell_type": "markdown",
      "source": [
        "## Business Problem \n",
        "\n",
        "---\n",
        "\n",
        "Invasive breast cancer detection is a tedious and difficult task. Like searching for a needle in a haystack, a pathologist must scan vast stretches of benign regions to (maybe) identify a small plot of malignancy within. Accurate and precise identification of IDC tissue regions is critical for the subsequent tumor aggression and patient outcome calculations and predictions. \n",
        "\n",
        "\n",
        "The Pathology Specialists at the University of Nebraska Medical Center (UNMC) approached us with the following problems: \n",
        "\n",
        "- Overworked pathologists, and elevated physician burnout rates\n",
        "- Commonly misidentified or unidentified IDC in breast cancer WSI\n",
        "\n",
        "\n",
        "After discussing their problems, and the available data, we created the following goals: \n",
        "\n",
        "- To be used as either a preliminary scan or a fail-safe check, create a model that will save UNMC pathologists time, increase accuracy, and reduce misidentified and unidentified malignant regions within samples. \n",
        "\n",
        "\n",
        "- Create a model that can accurately identify and categorize tissue regions in WSI of breast cancer with over 90% accuracy, and over 90% recall. \n"
      ],
      "metadata": {
        "id": "LPshUFspH2cT"
      }
    },
    {
      "cell_type": "markdown",
      "source": [
        "## Data Understanding \n",
        "\n",
        "---\n",
        "According to Kaggle, the original dataset consisted of 162 whole mount slide images of Breast Cancer (BCa) specimens scanned at 40x. From that, 277,524 patches of size 50 x 50 were extracted (198,738 IDC negative and 78,786 IDC positive). Each patch’s file name is of the format: uxXyYclassC.png — > example 10253idx5x1351y1101class0.png . Where u is the patient ID (10253idx5), X is the x-coordinate of where this patch was cropped from, Y is the y-coordinate of where this patch was cropped from, and C indicates the class where 0 is non-IDC and 1 is IDC.\n",
        "\n",
        "In order to create a digestable size of data, I randomly selected images and randomly sorted them into my Test, Train, and Validation sets, each containing two subset folders: Cancer and Normal. \n",
        "\n",
        "Test\n",
        "  - Normal: 773 images \n",
        "  - Cancer: 208 images\n",
        "\n",
        "Train\n",
        "  - Normal: 2,943 images\n",
        "  - Cancer: 3,920 images\n",
        "\n",
        "Validation\n",
        "  - Normal: 65 images\n",
        "  - Cancer: 44 images\n",
        "\n",
        "In total, there were 3,781 Normal image scans and 4,172 Cancer image scans. We built data generation and image augmentation into our model, allowing us to train our final model with 555,903 images. "
      ],
      "metadata": {
        "id": "Et9JgSaeH2eY"
      }
    },
    {
      "cell_type": "markdown",
      "source": [
        "## Methodology and Results \n",
        "\n",
        "---\n",
        "### Model 1: Logistic Regression \n",
        "\n"
      ],
      "metadata": {
        "id": "Q84EP840H2iE"
      }
    },
    {
      "cell_type": "markdown",
      "source": [
        ""
      ],
      "metadata": {
        "id": "Gb2CFwEuH2kC"
      }
    },
    {
      "cell_type": "markdown",
      "source": [
        ""
      ],
      "metadata": {
        "id": "bg2xzLr3H2n4"
      }
    },
    {
      "cell_type": "markdown",
      "source": [
        ""
      ],
      "metadata": {
        "id": "kXutG9E8H2p9"
      }
    }
  ]
}